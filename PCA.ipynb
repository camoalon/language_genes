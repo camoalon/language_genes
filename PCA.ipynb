{
  "nbformat": 4,
  "nbformat_minor": 0,
  "metadata": {
    "colab": {
      "name": "PCA.ipynb",
      "provenance": [],
      "include_colab_link": true
    },
    "kernelspec": {
      "name": "python3",
      "display_name": "Python 3"
    }
  },
  "cells": [
    {
      "cell_type": "markdown",
      "metadata": {
        "id": "view-in-github",
        "colab_type": "text"
      },
      "source": [
        "<a href=\"https://colab.research.google.com/github/camoalon/language_genes/blob/master/PCA.ipynb\" target=\"_parent\"><img src=\"https://colab.research.google.com/assets/colab-badge.svg\" alt=\"Open In Colab\"/></a>"
      ]
    },
    {
      "cell_type": "markdown",
      "metadata": {
        "id": "GIX_gXKJBjgB",
        "colab_type": "text"
      },
      "source": [
        "# Import packages and data"
      ]
    },
    {
      "cell_type": "markdown",
      "metadata": {
        "id": "pe5XG_hkBr4a",
        "colab_type": "text"
      },
      "source": [
        "## Import packages"
      ]
    },
    {
      "cell_type": "code",
      "metadata": {
        "id": "kzIZ8j0YUk89",
        "colab_type": "code",
        "colab": {}
      },
      "source": [
        "import numpy as np\n",
        "import pandas as pd\n",
        "from sklearn.decomposition import PCA\n",
        "from sklearn import preprocessing\n",
        "import matplotlib.pyplot as plt\n",
        "import seaborn as sns"
      ],
      "execution_count": 0,
      "outputs": []
    },
    {
      "cell_type": "markdown",
      "metadata": {
        "id": "dXQgpGX6QjId",
        "colab_type": "text"
      },
      "source": [
        "## Define Procrustes"
      ]
    },
    {
      "cell_type": "code",
      "metadata": {
        "id": "w4V7NzlEc4pr",
        "colab_type": "code",
        "colab": {}
      },
      "source": [
        "def procrustess(X, Y, scaling=True, reflection='best'):\n",
        "    \"\"\"\n",
        "    A port of MATLAB's `procrustes` function to Numpy.\n",
        "\n",
        "    Procrustes analysis determines a linear transformation (translation,\n",
        "    reflection, orthogonal rotation and scaling) of the points in Y to best\n",
        "    conform them to the points in matrix X, using the sum of squared errors\n",
        "    as the goodness of fit criterion.\n",
        "\n",
        "        d, Z, [tform] = procrustes(X, Y)\n",
        "\n",
        "    Inputs:\n",
        "    ------------\n",
        "    X, Y    \n",
        "        matrices of target and input coordinates. they must have equal\n",
        "        numbers of  points (rows), but Y may have fewer dimensions\n",
        "        (columns) than X.\n",
        "\n",
        "    scaling \n",
        "        if False, the scaling component of the transformation is forced\n",
        "        to 1\n",
        "\n",
        "    reflection\n",
        "        if 'best' (default), the transformation solution may or may not\n",
        "        include a reflection component, depending on which fits the data\n",
        "        best. setting reflection to True or False forces a solution with\n",
        "        reflection or no reflection respectively.\n",
        "\n",
        "    Outputs\n",
        "    ------------\n",
        "    d       \n",
        "        the residual sum of squared errors, normalized according to a\n",
        "        measure of the scale of X, ((X - X.mean(0))**2).sum()\n",
        "\n",
        "    Z\n",
        "        the matrix of transformed Y-values\n",
        "\n",
        "    tform   \n",
        "        a dict specifying the rotation, translation and scaling that\n",
        "        maps X --> Y\n",
        "\n",
        "    \"\"\"\n",
        "\n",
        "    n,m = X.shape\n",
        "    ny,my = Y.shape\n",
        "\n",
        "    muX = X.mean(0)\n",
        "    muY = Y.mean(0)\n",
        "\n",
        "    X0 = X - muX\n",
        "    Y0 = Y - muY\n",
        "\n",
        "    ssX = (X0**2.).sum()\n",
        "    ssY = (Y0**2.).sum()\n",
        "\n",
        "    # centred Frobenius norm\n",
        "    normX = np.sqrt(ssX)\n",
        "    normY = np.sqrt(ssY)\n",
        "\n",
        "    # scale to equal (unit) norm\n",
        "    X0 /= normX\n",
        "    Y0 /= normY\n",
        "\n",
        "    if my < m:\n",
        "        Y0 = np.concatenate((Y0, np.zeros(n, m-my)),0)\n",
        "\n",
        "    # optimum rotation matrix of Y\n",
        "    A = np.dot(X0.T, Y0)\n",
        "    U,s,Vt = np.linalg.svd(A,full_matrices=False)\n",
        "    V = Vt.T\n",
        "    T = np.dot(V, U.T)\n",
        "\n",
        "    if reflection is not 'best':\n",
        "\n",
        "        # does the current solution use a reflection?\n",
        "        have_reflection = np.linalg.det(T) < 0\n",
        "\n",
        "        # if that's not what was specified, force another reflection\n",
        "        if reflection != have_reflection:\n",
        "            V[:,-1] *= -1\n",
        "            s[-1] *= -1\n",
        "            T = np.dot(V, U.T)\n",
        "\n",
        "    traceTA = s.sum()\n",
        "\n",
        "    if scaling:\n",
        "\n",
        "        # optimum scaling of Y\n",
        "        b = traceTA * normX / normY\n",
        "\n",
        "        # standarised distance between X and b*Y*T + c\n",
        "        d = 1 - traceTA**2\n",
        "\n",
        "        # transformed coords\n",
        "        Z = normX*traceTA*np.dot(Y0, T) + muX\n",
        "\n",
        "    else:\n",
        "        b = 1\n",
        "        d = 1 + ssY/ssX - 2 * traceTA * normY / normX\n",
        "        Z = normY*np.dot(Y0, T) + muX\n",
        "\n",
        "    # transformation matrix\n",
        "    if my < m:\n",
        "        T = T[:my,:]\n",
        "    c = muX - b*np.dot(muY, T)\n",
        "\n",
        "    #transformation values \n",
        "    tform = {'rotation':T, 'scale':b, 'translation':c}\n",
        "\n",
        "    return d, Z, tform"
      ],
      "execution_count": 0,
      "outputs": []
    },
    {
      "cell_type": "markdown",
      "metadata": {
        "id": "cHEVOcgcBucP",
        "colab_type": "text"
      },
      "source": [
        "## Import data"
      ]
    },
    {
      "cell_type": "code",
      "metadata": {
        "id": "yHdmRAZMUmpv",
        "colab_type": "code",
        "colab": {}
      },
      "source": [
        "file = 'https://raw.githubusercontent.com/camoalon/language_genes/master/data/Phonemes139forShannon.txt?token=AIVRZB6YJG6TW6QCKV67WEC6RJRWY'\n",
        "phonemes = pd.read_csv(file,sep='\\t',header=None)\n",
        "phonemes.drop(139,axis=1,inplace=True)"
      ],
      "execution_count": 0,
      "outputs": []
    },
    {
      "cell_type": "code",
      "metadata": {
        "id": "zUW1eRFhYRGN",
        "colab_type": "code",
        "colab": {}
      },
      "source": [
        "file = 'https://raw.githubusercontent.com/camoalon/language_genes/master/data/LongLat_Unscaled_139forShannon.txt?token=AIVRZBZWC346DX4G7TPBWIC6RKEMM'\n",
        "coordinates = pd.read_csv(file,sep='\\t',header=None)\n",
        "coordinates.drop(139,axis=1,inplace=True)\n"
      ],
      "execution_count": 0,
      "outputs": []
    },
    {
      "cell_type": "markdown",
      "metadata": {
        "id": "ZwBYlvSbJL_o",
        "colab_type": "text"
      },
      "source": [
        "# Perform analysis"
      ]
    },
    {
      "cell_type": "markdown",
      "metadata": {
        "id": "Arp9np2jY9eY",
        "colab_type": "text"
      },
      "source": [
        "## PCA"
      ]
    },
    {
      "cell_type": "code",
      "metadata": {
        "id": "EiqJsfuyJS1W",
        "colab_type": "code",
        "colab": {}
      },
      "source": [
        "pca = PCA()\n",
        "pca.fit(phonemes.T)\n",
        "pca_data = pca.transform(phonemes.T)\n",
        "\n",
        "per_var = np.round(pca.explained_variance_ratio_* 100, decimals=1)\n",
        "labels = ['PC' + str(x) for x in range(1, len(per_var)+1)]\n",
        "\n",
        "phonemes_pca = pd.DataFrame(pca_data, columns=labels)\n",
        "\n",
        "phonemes_pc = pd.DataFrame([phonemes_pca.PC1, phonemes_pca.PC2]).T"
      ],
      "execution_count": 0,
      "outputs": []
    },
    {
      "cell_type": "markdown",
      "metadata": {
        "id": "LuCXHIzEY__t",
        "colab_type": "text"
      },
      "source": [
        "## Procrustes"
      ]
    },
    {
      "cell_type": "code",
      "metadata": {
        "id": "3k_5jHTOZCJX",
        "colab_type": "code",
        "colab": {}
      },
      "source": [
        "d, Z, t = procrustess(coordinates.T.values, phonemes_pc.T.values)"
      ],
      "execution_count": 0,
      "outputs": []
    },
    {
      "cell_type": "markdown",
      "metadata": {
        "id": "bxWUm73jMYz1",
        "colab_type": "text"
      },
      "source": [
        "# Plot the results"
      ]
    },
    {
      "cell_type": "code",
      "metadata": {
        "id": "cMNxWx7lLi00",
        "colab_type": "code",
        "outputId": "68c293bc-0fec-4f71-e866-aecf47f5902a",
        "colab": {
          "base_uri": "https://localhost:8080/",
          "height": 312
        }
      },
      "source": [
        "plt.scatter(phonemes_pc['PC1'], phonemes_pc['PC2'])\n",
        "plt.title('My PCA Graph')\n",
        "plt.xlabel('PC1 - {0}%'.format(per_var[0]))\n",
        "plt.ylabel('PC2 - {0}%'.format(per_var[1]))"
      ],
      "execution_count": 156,
      "outputs": [
        {
          "output_type": "execute_result",
          "data": {
            "text/plain": [
              "Text(0, 0.5, 'PC2 - 7.5%')"
            ]
          },
          "metadata": {
            "tags": []
          },
          "execution_count": 156
        },
        {
          "output_type": "display_data",
          "data": {
            "image/png": "[encoded data removed]",
            "text/plain": [
              "<Figure size 432x288 with 1 Axes>"
            ]
          },
          "metadata": {
            "tags": []
          }
        }
      ]
    },
    {
      "cell_type": "code",
      "metadata": {
        "id": "xSvW4O1GMp7A",
        "colab_type": "code",
        "outputId": "22fb1b28-ba1c-4227-c8b7-85b4e020ec7c",
        "colab": {
          "base_uri": "https://localhost:8080/",
          "height": 282
        }
      },
      "source": [
        "plt.scatter(coordinates.T[0], coordinates.T[1], c = \"g\")"
      ],
      "execution_count": 134,
      "outputs": [
        {
          "output_type": "execute_result",
          "data": {
            "text/plain": [
              "<matplotlib.collections.PathCollection at 0x7f76db5428d0>"
            ]
          },
          "metadata": {
            "tags": []
          },
          "execution_count": 134
        },
        {
          "output_type": "display_data",
          "data": {
            "image/png": "[encoded data removed]",
            "text/plain": [
              "<Figure size 432x288 with 1 Axes>"
            ]
          },
          "metadata": {
            "tags": []
          }
        }
      ]
    },
    {
      "cell_type": "code",
      "metadata": {
        "id": "EE91uu0nrAzC",
        "colab_type": "code",
        "colab": {
          "base_uri": "https://localhost:8080/",
          "height": 282
        },
        "outputId": "f34710e2-02be-4f08-ca2f-5e28dccfaa29"
      },
      "source": [
        "plt.scatter(Z.T[0], Z.T[1], c = \"r\")"
      ],
      "execution_count": 136,
      "outputs": [
        {
          "output_type": "execute_result",
          "data": {
            "text/plain": [
              "<matplotlib.collections.PathCollection at 0x7f76db51ef28>"
            ]
          },
          "metadata": {
            "tags": []
          },
          "execution_count": 136
        },
        {
          "output_type": "display_data",
          "data": {
            "image/png": "[encoded data removed]",
            "text/plain": [
              "<Figure size 432x288 with 1 Axes>"
            ]
          },
          "metadata": {
            "tags": []
          }
        }
      ]
    },
    {
      "cell_type": "markdown",
      "metadata": {
        "id": "8IOxfWltH1bp",
        "colab_type": "text"
      },
      "source": [
        "# Ejemplo de Matlab"
      ]
    },
    {
      "cell_type": "code",
      "metadata": {
        "id": "XUNXbpK2qJ29",
        "colab_type": "code",
        "colab": {
          "base_uri": "https://localhost:8080/",
          "height": 282
        },
        "outputId": "b9c35060-1818-4052-b59a-d756e420d899"
      },
      "source": [
        "X = np.array([[0.5377,\n",
        "    1.8339,\n",
        "   -2.2588,\n",
        "    0.8622,\n",
        "    0.3188,\n",
        "   -1.3077,\n",
        "   -0.4336,\n",
        "    0.3426,\n",
        "    3.5784,\n",
        "    2.7694],\n",
        "    [ -1.3499,\n",
        "    3.0349,\n",
        "    0.7254,\n",
        "   -0.0631,\n",
        "    0.7147,\n",
        "   -0.2050,\n",
        "   -0.1241,\n",
        "    1.4897,\n",
        "    1.4090,\n",
        "    1.4172]])\n",
        "\n",
        "Y = np.array([[1.5835,\n",
        "    3.7123,\n",
        "    1.7853,\n",
        "    2.2698,\n",
        "    2.4136,\n",
        "    1.6361,\n",
        "    1.8742,\n",
        "    2.7155,\n",
        "    3.5194,\n",
        "    3.2667],[    1.4741,\n",
        "    1.9073,\n",
        "    3.1060,\n",
        "    1.5704,\n",
        "    1.8934,\n",
        "    2.5869,\n",
        "    2.1730,\n",
        "    2.1863,\n",
        "    0.8713,\n",
        "    1.0695]])\n",
        "\n",
        "\n",
        "d, Z, tr = procrustess (X.T,Y.T)\n",
        "\n",
        "plt.scatter(Z.T[0], Z.T[1], c = \"g\", marker = \"x\")\n",
        "plt.scatter(X[0], X[1], c = \"r\", marker = \"+\")\n",
        "plt.scatter(Y[0], Y[1], c = \"b\")\n",
        "\n"
      ],
      "execution_count": 115,
      "outputs": [
        {
          "output_type": "execute_result",
          "data": {
            "text/plain": [
              "<matplotlib.collections.PathCollection at 0x7f76e0388908>"
            ]
          },
          "metadata": {
            "tags": []
          },
          "execution_count": 115
        },
        {
          "output_type": "display_data",
          "data": {
            "image/png": "[encoded data removed]",
            "text/plain": [
              "<Figure size 432x288 with 1 Axes>"
            ]
          },
          "metadata": {
            "tags": []
          }
        }
      ]
    }
  ]
}