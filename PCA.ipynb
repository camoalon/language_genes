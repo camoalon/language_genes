{
  "nbformat": 4,
  "nbformat_minor": 0,
  "metadata": {
    "colab": {
      "name": "PCA.ipynb",
      "provenance": [],
      "include_colab_link": true
    },
    "kernelspec": {
      "name": "python3",
      "display_name": "Python 3"
    }
  },
  "cells": [
    {
      "cell_type": "markdown",
      "metadata": {
        "id": "view-in-github",
        "colab_type": "text"
      },
      "source": [
        "<a href=\"https://colab.research.google.com/github/camoalon/language_genes/blob/master/PCA.ipynb\" target=\"_parent\"><img src=\"https://colab.research.google.com/assets/colab-badge.svg\" alt=\"Open In Colab\"/></a>"
      ]
    },
    {
      "cell_type": "markdown",
      "metadata": {
        "id": "GIX_gXKJBjgB",
        "colab_type": "text"
      },
      "source": [
        "# Import packages and data"
      ]
    },
    {
      "cell_type": "markdown",
      "metadata": {
        "id": "pe5XG_hkBr4a",
        "colab_type": "text"
      },
      "source": [
        "## Import packages"
      ]
    },
    {
      "cell_type": "code",
      "metadata": {
        "id": "kzIZ8j0YUk89",
        "colab_type": "code",
        "colab": {}
      },
      "source": [
        "import numpy as np\n",
        "import pandas as pd\n",
        "from sklearn.decomposition import PCA\n",
        "from sklearn import preprocessing\n",
        "from scipy.spatial import procrustes\n",
        "import matplotlib.pyplot as plt"
      ],
      "execution_count": 0,
      "outputs": []
    },
    {
      "cell_type": "markdown",
      "metadata": {
        "id": "cHEVOcgcBucP",
        "colab_type": "text"
      },
      "source": [
        "## Import data"
      ]
    },
    {
      "cell_type": "code",
      "metadata": {
        "id": "yHdmRAZMUmpv",
        "colab_type": "code",
        "colab": {}
      },
      "source": [
        "file = 'https://raw.githubusercontent.com/camoalon/language_genes/master/data/Phonemes139forShannon.txt?token=AIVRZB3NSW6SZGXWISTNUQS6RE2QI'\n",
        "phonemes = pd.read_csv(file,sep='\\t',header=None)\n",
        "phonemes.drop(139,axis=1,inplace=True)"
      ],
      "execution_count": 0,
      "outputs": []
    },
    {
      "cell_type": "code",
      "metadata": {
        "id": "zUW1eRFhYRGN",
        "colab_type": "code",
        "colab": {}
      },
      "source": [
        "file = 'https://raw.githubusercontent.com/camoalon/language_genes/master/data/LongLat_AfricaOnLeft_139forShannon.txt?token=AIVRZB2UB7LDTDDA3MCGLS26RFILQ'\n",
        "coordinates = pd.read_csv(file,sep='\\t',header=None)\n",
        "coordinates.drop(139,axis=1,inplace=True)\n"
      ],
      "execution_count": 0,
      "outputs": []
    },
    {
      "cell_type": "markdown",
      "metadata": {
        "id": "ZwBYlvSbJL_o",
        "colab_type": "text"
      },
      "source": [
        "# Perform analysis"
      ]
    },
    {
      "cell_type": "markdown",
      "metadata": {
        "id": "Arp9np2jY9eY",
        "colab_type": "text"
      },
      "source": [
        "## PCA"
      ]
    },
    {
      "cell_type": "code",
      "metadata": {
        "id": "EiqJsfuyJS1W",
        "colab_type": "code",
        "colab": {}
      },
      "source": [
        "pca = PCA()\n",
        "pca.fit(phonemes.T)\n",
        "pca_data = pca.transform(phonemes.T)\n",
        "\n",
        "per_var = np.round(pca.explained_variance_ratio_* 100, decimals=1)\n",
        "labels = ['PC' + str(x) for x in range(1, len(per_var)+1)]\n",
        "\n",
        "phonemes_pca = pd.DataFrame(pca_data, columns=labels)\n",
        "\n",
        "phonemes_pc = pd.DataFrame([phonemes_pca.PC1, phonemes_pca.PC2])"
      ],
      "execution_count": 0,
      "outputs": []
    },
    {
      "cell_type": "markdown",
      "metadata": {
        "id": "LuCXHIzEY__t",
        "colab_type": "text"
      },
      "source": [
        "## Procrustes"
      ]
    },
    {
      "cell_type": "code",
      "metadata": {
        "id": "3k_5jHTOZCJX",
        "colab_type": "code",
        "colab": {}
      },
      "source": [
        "mtx1, mtx2, disparity = procrustes(coordinates,phonemes_pc)"
      ],
      "execution_count": 0,
      "outputs": []
    },
    {
      "cell_type": "markdown",
      "metadata": {
        "id": "bxWUm73jMYz1",
        "colab_type": "text"
      },
      "source": [
        "# Plot the results"
      ]
    },
    {
      "cell_type": "code",
      "metadata": {
        "id": "cMNxWx7lLi00",
        "colab_type": "code",
        "colab": {
          "base_uri": "https://localhost:8080/",
          "height": 312
        },
        "outputId": "e44ea848-cc83-47ce-e9a7-140104762914"
      },
      "source": [
        "plt.scatter(phonemes_pca.PC1, phonemes_pca.PC2)\n",
        "plt.title('My PCA Graph')\n",
        "plt.xlabel('PC1 - {0}%'.format(per_var[0]))\n",
        "plt.ylabel('PC2 - {0}%'.format(per_var[1]))"
      ],
      "execution_count": 65,
      "outputs": [
        {
          "output_type": "execute_result",
          "data": {
            "text/plain": [
              "Text(0, 0.5, 'PC2 - 7.5%')"
            ]
          },
          "metadata": {
            "tags": []
          },
          "execution_count": 65
        },
        {
          "output_type": "display_data",
          "data": {
            "image/png": "[encoded data removed]",
            "text/plain": [
              "<Figure size 432x288 with 1 Axes>"
            ]
          },
          "metadata": {
            "tags": []
          }
        }
      ]
    },
    {
      "cell_type": "code",
      "metadata": {
        "id": "xSvW4O1GMp7A",
        "colab_type": "code",
        "colab": {
          "base_uri": "https://localhost:8080/",
          "height": 282
        },
        "outputId": "71d93b79-a0a7-4b00-ecdf-7659c2d249bf"
      },
      "source": [
        "plt.scatter(mtx2[0], mtx2[1])"
      ],
      "execution_count": 72,
      "outputs": [
        {
          "output_type": "execute_result",
          "data": {
            "text/plain": [
              "<matplotlib.collections.PathCollection at 0x7f80b0ad1e48>"
            ]
          },
          "metadata": {
            "tags": []
          },
          "execution_count": 72
        },
        {
          "output_type": "display_data",
          "data": {
            "image/png": "[encoded data removed]",
            "text/plain": [
              "<Figure size 432x288 with 1 Axes>"
            ]
          },
          "metadata": {
            "tags": []
          }
        }
      ]
    },
    {
      "cell_type": "code",
      "metadata": {
        "id": "w4V7NzlEc4pr",
        "colab_type": "code",
        "colab": {}
      },
      "source": [
        "def procrustess(X, Y, scaling=True, reflection='best'):\n",
        "    \"\"\"\n",
        "    A port of MATLAB's `procrustes` function to Numpy.\n",
        "\n",
        "    Procrustes analysis determines a linear transformation (translation,\n",
        "    reflection, orthogonal rotation and scaling) of the points in Y to best\n",
        "    conform them to the points in matrix X, using the sum of squared errors\n",
        "    as the goodness of fit criterion.\n",
        "\n",
        "        d, Z, [tform] = procrustes(X, Y)\n",
        "\n",
        "    Inputs:\n",
        "    ------------\n",
        "    X, Y    \n",
        "        matrices of target and input coordinates. they must have equal\n",
        "        numbers of  points (rows), but Y may have fewer dimensions\n",
        "        (columns) than X.\n",
        "\n",
        "    scaling \n",
        "        if False, the scaling component of the transformation is forced\n",
        "        to 1\n",
        "\n",
        "    reflection\n",
        "        if 'best' (default), the transformation solution may or may not\n",
        "        include a reflection component, depending on which fits the data\n",
        "        best. setting reflection to True or False forces a solution with\n",
        "        reflection or no reflection respectively.\n",
        "\n",
        "    Outputs\n",
        "    ------------\n",
        "    d       \n",
        "        the residual sum of squared errors, normalized according to a\n",
        "        measure of the scale of X, ((X - X.mean(0))**2).sum()\n",
        "\n",
        "    Z\n",
        "        the matrix of transformed Y-values\n",
        "\n",
        "    tform   \n",
        "        a dict specifying the rotation, translation and scaling that\n",
        "        maps X --> Y\n",
        "\n",
        "    \"\"\"\n",
        "\n",
        "    n,m = X.shape\n",
        "    ny,my = Y.shape\n",
        "\n",
        "    muX = X.mean(0)\n",
        "    muY = Y.mean(0)\n",
        "\n",
        "    X0 = X - muX\n",
        "    Y0 = Y - muY\n",
        "\n",
        "    ssX = (X0**2.).sum()\n",
        "    ssY = (Y0**2.).sum()\n",
        "\n",
        "    # centred Frobenius norm\n",
        "    normX = np.sqrt(ssX)\n",
        "    normY = np.sqrt(ssY)\n",
        "\n",
        "    # scale to equal (unit) norm\n",
        "    X0 /= normX\n",
        "    Y0 /= normY\n",
        "\n",
        "    if my < m:\n",
        "        Y0 = np.concatenate((Y0, np.zeros(n, m-my)),0)\n",
        "\n",
        "    # optimum rotation matrix of Y\n",
        "    A = np.dot(X0.T, Y0)\n",
        "    U,s,Vt = np.linalg.svd(A,full_matrices=False)\n",
        "    V = Vt.T\n",
        "    T = np.dot(V, U.T)\n",
        "\n",
        "    if reflection is not 'best':\n",
        "\n",
        "        # does the current solution use a reflection?\n",
        "        have_reflection = np.linalg.det(T) < 0\n",
        "\n",
        "        # if that's not what was specified, force another reflection\n",
        "        if reflection != have_reflection:\n",
        "            V[:,-1] *= -1\n",
        "            s[-1] *= -1\n",
        "            T = np.dot(V, U.T)\n",
        "\n",
        "    traceTA = s.sum()\n",
        "\n",
        "    if scaling:\n",
        "\n",
        "        # optimum scaling of Y\n",
        "        b = traceTA * normX / normY\n",
        "\n",
        "        # standarised distance between X and b*Y*T + c\n",
        "        d = 1 - traceTA**2\n",
        "\n",
        "        # transformed coords\n",
        "        Z = normX*traceTA*np.dot(Y0, T) + muX\n",
        "\n",
        "    else:\n",
        "        b = 1\n",
        "        d = 1 + ssY/ssX - 2 * traceTA * normY / normX\n",
        "        Z = normY*np.dot(Y0, T) + muX\n",
        "\n",
        "    # transformation matrix\n",
        "    if my < m:\n",
        "        T = T[:my,:]\n",
        "    c = muX - b*np.dot(muY, T)\n",
        "\n",
        "    #transformation values \n",
        "    tform = {'rotation':T, 'scale':b, 'translation':c}\n",
        "\n",
        "    return d, Z, tform"
      ],
      "execution_count": 0,
      "outputs": []
    },
    {
      "cell_type": "code",
      "metadata": {
        "id": "WJEz9XPzde1m",
        "colab_type": "code",
        "colab": {
          "base_uri": "https://localhost:8080/",
          "height": 317
        },
        "outputId": "2f0fc0aa-dcec-4aa4-b100-77f98ada4164"
      },
      "source": [
        "procrustess(coordinates.T,phonemes_pc)"
      ],
      "execution_count": 83,
      "outputs": [
        {
          "output_type": "error",
          "ename": "ValueError",
          "evalue": "ignored",
          "traceback": [
            "\u001b[0;31m---------------------------------------------------------------------------\u001b[0m",
            "\u001b[0;31mValueError\u001b[0m                                Traceback (most recent call last)",
            "\u001b[0;32m<ipython-input-83-f4ea3240f6da>\u001b[0m in \u001b[0;36m<module>\u001b[0;34m()\u001b[0m\n\u001b[0;32m----> 1\u001b[0;31m \u001b[0mprocrustess\u001b[0m\u001b[0;34m(\u001b[0m\u001b[0mcoordinates\u001b[0m\u001b[0;34m.\u001b[0m\u001b[0mT\u001b[0m\u001b[0;34m,\u001b[0m\u001b[0mphonemes_pc\u001b[0m\u001b[0;34m)\u001b[0m\u001b[0;34m\u001b[0m\u001b[0;34m\u001b[0m\u001b[0m\n\u001b[0m",
            "\u001b[0;32m<ipython-input-75-43131a018d8d>\u001b[0m in \u001b[0;36mprocrustess\u001b[0;34m(X, Y, scaling, reflection)\u001b[0m\n\u001b[1;32m     66\u001b[0m \u001b[0;34m\u001b[0m\u001b[0m\n\u001b[1;32m     67\u001b[0m     \u001b[0;31m# optimum rotation matrix of Y\u001b[0m\u001b[0;34m\u001b[0m\u001b[0;34m\u001b[0m\u001b[0;34m\u001b[0m\u001b[0m\n\u001b[0;32m---> 68\u001b[0;31m     \u001b[0mA\u001b[0m \u001b[0;34m=\u001b[0m \u001b[0mnp\u001b[0m\u001b[0;34m.\u001b[0m\u001b[0mdot\u001b[0m\u001b[0;34m(\u001b[0m\u001b[0mX0\u001b[0m\u001b[0;34m.\u001b[0m\u001b[0mT\u001b[0m\u001b[0;34m,\u001b[0m \u001b[0mY0\u001b[0m\u001b[0;34m)\u001b[0m\u001b[0;34m\u001b[0m\u001b[0;34m\u001b[0m\u001b[0m\n\u001b[0m\u001b[1;32m     69\u001b[0m     \u001b[0mU\u001b[0m\u001b[0;34m,\u001b[0m\u001b[0ms\u001b[0m\u001b[0;34m,\u001b[0m\u001b[0mVt\u001b[0m \u001b[0;34m=\u001b[0m \u001b[0mnp\u001b[0m\u001b[0;34m.\u001b[0m\u001b[0mlinalg\u001b[0m\u001b[0;34m.\u001b[0m\u001b[0msvd\u001b[0m\u001b[0;34m(\u001b[0m\u001b[0mA\u001b[0m\u001b[0;34m,\u001b[0m\u001b[0mfull_matrices\u001b[0m\u001b[0;34m=\u001b[0m\u001b[0;32mFalse\u001b[0m\u001b[0;34m)\u001b[0m\u001b[0;34m\u001b[0m\u001b[0;34m\u001b[0m\u001b[0m\n\u001b[1;32m     70\u001b[0m     \u001b[0mV\u001b[0m \u001b[0;34m=\u001b[0m \u001b[0mVt\u001b[0m\u001b[0;34m.\u001b[0m\u001b[0mT\u001b[0m\u001b[0;34m\u001b[0m\u001b[0;34m\u001b[0m\u001b[0m\n",
            "\u001b[0;32m<__array_function__ internals>\u001b[0m in \u001b[0;36mdot\u001b[0;34m(*args, **kwargs)\u001b[0m\n",
            "\u001b[0;31mValueError\u001b[0m: shapes (2,139) and (2,139) not aligned: 139 (dim 1) != 2 (dim 0)"
          ]
        }
      ]
    },
    {
      "cell_type": "code",
      "metadata": {
        "id": "ul_ccs4AehYd",
        "colab_type": "code",
        "colab": {
          "base_uri": "https://localhost:8080/",
          "height": 34
        },
        "outputId": "523e1939-ef8f-4f0c-9e6d-a6f767615395"
      },
      "source": [
        "coordinates.shape == phonemes_pc.shape"
      ],
      "execution_count": 80,
      "outputs": [
        {
          "output_type": "execute_result",
          "data": {
            "text/plain": [
              "True"
            ]
          },
          "metadata": {
            "tags": []
          },
          "execution_count": 80
        }
      ]
    },
    {
      "cell_type": "code",
      "metadata": {
        "id": "KtmsV4r-e5DT",
        "colab_type": "code",
        "colab": {}
      },
      "source": [
        ""
      ],
      "execution_count": 0,
      "outputs": []
    }
  ]
}