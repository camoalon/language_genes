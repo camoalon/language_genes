{
  "nbformat": 4,
  "nbformat_minor": 0,
  "metadata": {
    "colab": {
      "name": "PCA.ipynb",
      "provenance": [],
      "include_colab_link": true
    },
    "kernelspec": {
      "name": "python3",
      "display_name": "Python 3"
    }
  },
  "cells": [
    {
      "cell_type": "markdown",
      "metadata": {
        "id": "view-in-github",
        "colab_type": "text"
      },
      "source": [
        "<a href=\"https://colab.research.google.com/github/camoalon/language_genes/blob/master/PCA.ipynb\" target=\"_parent\"><img src=\"https://colab.research.google.com/assets/colab-badge.svg\" alt=\"Open In Colab\"/></a>"
      ]
    },
    {
      "cell_type": "markdown",
      "metadata": {
        "id": "GIX_gXKJBjgB",
        "colab_type": "text"
      },
      "source": [
        "# Import packages and data"
      ]
    },
    {
      "cell_type": "markdown",
      "metadata": {
        "id": "pe5XG_hkBr4a",
        "colab_type": "text"
      },
      "source": [
        "## Import packages"
      ]
    },
    {
      "cell_type": "code",
      "metadata": {
        "id": "kzIZ8j0YUk89",
        "colab_type": "code",
        "colab": {}
      },
      "source": [
        "import numpy as np\n",
        "import pandas as pd\n",
        "from sklearn.decomposition import PCA\n",
        "from sklearn import preprocessing\n",
        "from scipy.spatial import procrustes\n",
        "import matplotlib.pyplot as plt"
      ],
      "execution_count": 0,
      "outputs": []
    },
    {
      "cell_type": "markdown",
      "metadata": {
        "id": "cHEVOcgcBucP",
        "colab_type": "text"
      },
      "source": [
        "## Import data"
      ]
    },
    {
      "cell_type": "code",
      "metadata": {
        "id": "yHdmRAZMUmpv",
        "colab_type": "code",
        "colab": {}
      },
      "source": [
        "file = 'https://raw.githubusercontent.com/camoalon/language_genes/master/data/Phonemes139forShannon.txt?token=AIVRZB3NSW6SZGXWISTNUQS6RE2QI'\n",
        "phonemes = pd.read_csv(file,sep='\\t',header=None)\n",
        "phonemes.drop(139,axis=1,inplace=True)"
      ],
      "execution_count": 0,
      "outputs": []
    },
    {
      "cell_type": "code",
      "metadata": {
        "id": "zUW1eRFhYRGN",
        "colab_type": "code",
        "colab": {}
      },
      "source": [
        "file = 'https://raw.githubusercontent.com/camoalon/language_genes/master/data/LongLat_AfricaOnLeft_139forShannon.txt?token=AIVRZB2UB7LDTDDA3MCGLS26RFILQ'\n",
        "coordinates = pd.read_csv(file,sep='\\t',header=None)\n",
        "coordinates.drop(139,axis=1,inplace=True)\n"
      ],
      "execution_count": 0,
      "outputs": []
    },
    {
      "cell_type": "markdown",
      "metadata": {
        "id": "ZwBYlvSbJL_o",
        "colab_type": "text"
      },
      "source": [
        "# Perform analysis"
      ]
    },
    {
      "cell_type": "markdown",
      "metadata": {
        "id": "Arp9np2jY9eY",
        "colab_type": "text"
      },
      "source": [
        "## PCA"
      ]
    },
    {
      "cell_type": "code",
      "metadata": {
        "id": "EiqJsfuyJS1W",
        "colab_type": "code",
        "colab": {}
      },
      "source": [
        "pca = PCA()\n",
        "pca.fit(phonemes.T)\n",
        "pca_data = pca.transform(phonemes.T)\n",
        "\n",
        "per_var = np.round(pca.explained_variance_ratio_* 100, decimals=1)\n",
        "labels = ['PC' + str(x) for x in range(1, len(per_var)+1)]\n",
        "\n",
        "phonemes_pca = pd.DataFrame(pca_data, columns=labels)\n",
        "\n",
        "phonemes_pc = pd.DataFrame([phonemes_pca.PC1, phonemes_pca.PC2])"
      ],
      "execution_count": 0,
      "outputs": []
    },
    {
      "cell_type": "markdown",
      "metadata": {
        "id": "LuCXHIzEY__t",
        "colab_type": "text"
      },
      "source": [
        "## Procrustes"
      ]
    },
    {
      "cell_type": "code",
      "metadata": {
        "id": "3k_5jHTOZCJX",
        "colab_type": "code",
        "colab": {}
      },
      "source": [
        "mtx1, mtx2, disparity = procrustes(coordinates,phonemes_pc)"
      ],
      "execution_count": 0,
      "outputs": []
    },
    {
      "cell_type": "markdown",
      "metadata": {
        "id": "bxWUm73jMYz1",
        "colab_type": "text"
      },
      "source": [
        "# Plot the results"
      ]
    },
    {
      "cell_type": "code",
      "metadata": {
        "id": "cMNxWx7lLi00",
        "colab_type": "code",
        "colab": {
          "base_uri": "https://localhost:8080/",
          "height": 312
        },
        "outputId": "e44ea848-cc83-47ce-e9a7-140104762914"
      },
      "source": [
        "plt.scatter(phonemes_pca.PC1, phonemes_pca.PC2)\n",
        "plt.title('My PCA Graph')\n",
        "plt.xlabel('PC1 - {0}%'.format(per_var[0]))\n",
        "plt.ylabel('PC2 - {0}%'.format(per_var[1]))"
      ],
      "execution_count": 65,
      "outputs": [
        {
          "output_type": "execute_result",
          "data": {
            "text/plain": [
              "Text(0, 0.5, 'PC2 - 7.5%')"
            ]
          },
          "metadata": {
            "tags": []
          },
          "execution_count": 65
        },
        {
          "output_type": "display_data",
          "data": {
            "image/png": "[encoded data removed]",
            "text/plain": [
              "<Figure size 432x288 with 1 Axes>"
            ]
          },
          "metadata": {
            "tags": []
          }
        }
      ]
    },
    {
      "cell_type": "code",
      "metadata": {
        "id": "xSvW4O1GMp7A",
        "colab_type": "code",
        "colab": {
          "base_uri": "https://localhost:8080/",
          "height": 282
        },
        "outputId": "71d93b79-a0a7-4b00-ecdf-7659c2d249bf"
      },
      "source": [
        "plt.scatter(mtx2[0], mtx2[1])"
      ],
      "execution_count": 72,
      "outputs": [
        {
          "output_type": "execute_result",
          "data": {
            "text/plain": [
              "<matplotlib.collections.PathCollection at 0x7f80b0ad1e48>"
            ]
          },
          "metadata": {
            "tags": []
          },
          "execution_count": 72
        },
        {
          "output_type": "display_data",
          "data": {
            "image/png": "[encoded data removed]",
            "text/plain": [
              "<Figure size 432x288 with 1 Axes>"
            ]
          },
          "metadata": {
            "tags": []
          }
        }
      ]
    },
    {
      "cell_type": "code",
      "metadata": {
        "id": "w4V7NzlEc4pr",
        "colab_type": "code",
        "colab": {
          "base_uri": "https://localhost:8080/",
          "height": 160
        },
        "outputId": "70ab42d0-1b45-406f-b261-0b20cd905669"
      },
      "source": [
        "coordinates"
      ],
      "execution_count": 73,
      "outputs": [
        {
          "output_type": "execute_result",
          "data": {
            "text/html": [
              "<div>\n",
              "<style scoped>\n",
              "    .dataframe tbody tr th:only-of-type {\n",
              "        vertical-align: middle;\n",
              "    }\n",
              "\n",
              "    .dataframe tbody tr th {\n",
              "        vertical-align: top;\n",
              "    }\n",
              "\n",
              "    .dataframe thead th {\n",
              "        text-align: right;\n",
              "    }\n",
              "</style>\n",
              "<table border=\"1\" class=\"dataframe\">\n",
              "  <thead>\n",
              "    <tr style=\"text-align: right;\">\n",
              "      <th></th>\n",
              "      <th>0</th>\n",
              "      <th>1</th>\n",
              "      <th>2</th>\n",
              "      <th>3</th>\n",
              "      <th>4</th>\n",
              "      <th>5</th>\n",
              "      <th>6</th>\n",
              "      <th>7</th>\n",
              "      <th>8</th>\n",
              "      <th>9</th>\n",
              "      <th>10</th>\n",
              "      <th>11</th>\n",
              "      <th>12</th>\n",
              "      <th>13</th>\n",
              "      <th>14</th>\n",
              "      <th>15</th>\n",
              "      <th>16</th>\n",
              "      <th>17</th>\n",
              "      <th>18</th>\n",
              "      <th>19</th>\n",
              "      <th>20</th>\n",
              "      <th>21</th>\n",
              "      <th>22</th>\n",
              "      <th>23</th>\n",
              "      <th>24</th>\n",
              "      <th>25</th>\n",
              "      <th>26</th>\n",
              "      <th>27</th>\n",
              "      <th>28</th>\n",
              "      <th>29</th>\n",
              "      <th>30</th>\n",
              "      <th>31</th>\n",
              "      <th>32</th>\n",
              "      <th>33</th>\n",
              "      <th>34</th>\n",
              "      <th>35</th>\n",
              "      <th>36</th>\n",
              "      <th>37</th>\n",
              "      <th>38</th>\n",
              "      <th>39</th>\n",
              "      <th>...</th>\n",
              "      <th>99</th>\n",
              "      <th>100</th>\n",
              "      <th>101</th>\n",
              "      <th>102</th>\n",
              "      <th>103</th>\n",
              "      <th>104</th>\n",
              "      <th>105</th>\n",
              "      <th>106</th>\n",
              "      <th>107</th>\n",
              "      <th>108</th>\n",
              "      <th>109</th>\n",
              "      <th>110</th>\n",
              "      <th>111</th>\n",
              "      <th>112</th>\n",
              "      <th>113</th>\n",
              "      <th>114</th>\n",
              "      <th>115</th>\n",
              "      <th>116</th>\n",
              "      <th>117</th>\n",
              "      <th>118</th>\n",
              "      <th>119</th>\n",
              "      <th>120</th>\n",
              "      <th>121</th>\n",
              "      <th>122</th>\n",
              "      <th>123</th>\n",
              "      <th>124</th>\n",
              "      <th>125</th>\n",
              "      <th>126</th>\n",
              "      <th>127</th>\n",
              "      <th>128</th>\n",
              "      <th>129</th>\n",
              "      <th>130</th>\n",
              "      <th>131</th>\n",
              "      <th>132</th>\n",
              "      <th>133</th>\n",
              "      <th>134</th>\n",
              "      <th>135</th>\n",
              "      <th>136</th>\n",
              "      <th>137</th>\n",
              "      <th>138</th>\n",
              "    </tr>\n",
              "  </thead>\n",
              "  <tbody>\n",
              "    <tr>\n",
              "      <th>0</th>\n",
              "      <td>34.79905</td>\n",
              "      <td>35.46569</td>\n",
              "      <td>20.09317</td>\n",
              "      <td>22.80561</td>\n",
              "      <td>-15.72997</td>\n",
              "      <td>-4.39617</td>\n",
              "      <td>10.59519</td>\n",
              "      <td>13.24224</td>\n",
              "      <td>15.25689</td>\n",
              "      <td>18.50315</td>\n",
              "      <td>-1.24507</td>\n",
              "      <td>-2.14758</td>\n",
              "      <td>5.54402</td>\n",
              "      <td>7.00147</td>\n",
              "      <td>4.40609</td>\n",
              "      <td>7.16637</td>\n",
              "      <td>10.85543</td>\n",
              "      <td>11.58374</td>\n",
              "      <td>11.58374</td>\n",
              "      <td>11.58374</td>\n",
              "      <td>9.81700</td>\n",
              "      <td>10.55475</td>\n",
              "      <td>11.08465</td>\n",
              "      <td>11.68053</td>\n",
              "      <td>11.69175</td>\n",
              "      <td>11.84674</td>\n",
              "      <td>11.84674</td>\n",
              "      <td>11.84674</td>\n",
              "      <td>9.84015</td>\n",
              "      <td>9.84015</td>\n",
              "      <td>36.81015</td>\n",
              "      <td>33.17731</td>\n",
              "      <td>34.75535</td>\n",
              "      <td>14.91563</td>\n",
              "      <td>34.76550</td>\n",
              "      <td>29.95202</td>\n",
              "      <td>22.2616</td>\n",
              "      <td>29.88434</td>\n",
              "      <td>27.14538</td>\n",
              "      <td>12.74029</td>\n",
              "      <td>...</td>\n",
              "      <td>98.47395</td>\n",
              "      <td>101.02027</td>\n",
              "      <td>104.38105</td>\n",
              "      <td>121.35791</td>\n",
              "      <td>121.35779</td>\n",
              "      <td>149.64936</td>\n",
              "      <td>150.81263</td>\n",
              "      <td>150.81263</td>\n",
              "      <td>151.48012</td>\n",
              "      <td>152.10698</td>\n",
              "      <td>152.10698</td>\n",
              "      <td>150.83295</td>\n",
              "      <td>155.00022</td>\n",
              "      <td>187.59396</td>\n",
              "      <td>200.22870</td>\n",
              "      <td>145.23969</td>\n",
              "      <td>151.70877</td>\n",
              "      <td>151.70877</td>\n",
              "      <td>151.70877</td>\n",
              "      <td>155.59643</td>\n",
              "      <td>155.10199</td>\n",
              "      <td>249.09584</td>\n",
              "      <td>279.87877</td>\n",
              "      <td>264.51130</td>\n",
              "      <td>270.85215</td>\n",
              "      <td>269.02569</td>\n",
              "      <td>251.67406</td>\n",
              "      <td>276.60643</td>\n",
              "      <td>278.14688</td>\n",
              "      <td>286.35628</td>\n",
              "      <td>282.85526</td>\n",
              "      <td>283.12899</td>\n",
              "      <td>283.26516</td>\n",
              "      <td>285.69226</td>\n",
              "      <td>291.76877</td>\n",
              "      <td>289.16259</td>\n",
              "      <td>289.16259</td>\n",
              "      <td>304.99092</td>\n",
              "      <td>287.72498</td>\n",
              "      <td>308.63847</td>\n",
              "    </tr>\n",
              "    <tr>\n",
              "      <th>1</th>\n",
              "      <td>-3.47684</td>\n",
              "      <td>-5.28543</td>\n",
              "      <td>-19.76648</td>\n",
              "      <td>-17.99140</td>\n",
              "      <td>13.42414</td>\n",
              "      <td>9.24792</td>\n",
              "      <td>7.86705</td>\n",
              "      <td>6.75852</td>\n",
              "      <td>5.95025</td>\n",
              "      <td>4.39102</td>\n",
              "      <td>6.53399</td>\n",
              "      <td>7.52679</td>\n",
              "      <td>9.24149</td>\n",
              "      <td>10.43425</td>\n",
              "      <td>7.79927</td>\n",
              "      <td>7.33054</td>\n",
              "      <td>5.58897</td>\n",
              "      <td>5.85445</td>\n",
              "      <td>5.85445</td>\n",
              "      <td>5.85445</td>\n",
              "      <td>2.23311</td>\n",
              "      <td>4.67242</td>\n",
              "      <td>4.73059</td>\n",
              "      <td>3.24147</td>\n",
              "      <td>3.22227</td>\n",
              "      <td>1.61921</td>\n",
              "      <td>1.61921</td>\n",
              "      <td>1.61921</td>\n",
              "      <td>1.77177</td>\n",
              "      <td>1.77177</td>\n",
              "      <td>-0.53321</td>\n",
              "      <td>-3.06169</td>\n",
              "      <td>-5.05235</td>\n",
              "      <td>-5.17078</td>\n",
              "      <td>0.77072</td>\n",
              "      <td>-2.00131</td>\n",
              "      <td>-6.0212</td>\n",
              "      <td>-22.69831</td>\n",
              "      <td>-31.80414</td>\n",
              "      <td>12.20530</td>\n",
              "      <td>...</td>\n",
              "      <td>19.52774</td>\n",
              "      <td>16.82773</td>\n",
              "      <td>12.44095</td>\n",
              "      <td>24.02603</td>\n",
              "      <td>23.36496</td>\n",
              "      <td>-5.59138</td>\n",
              "      <td>-5.50082</td>\n",
              "      <td>-5.50082</td>\n",
              "      <td>-5.42555</td>\n",
              "      <td>-4.31779</td>\n",
              "      <td>-4.31779</td>\n",
              "      <td>-2.73190</td>\n",
              "      <td>-5.68670</td>\n",
              "      <td>-13.67570</td>\n",
              "      <td>-21.22769</td>\n",
              "      <td>-6.49895</td>\n",
              "      <td>-4.41125</td>\n",
              "      <td>-4.41125</td>\n",
              "      <td>-4.41125</td>\n",
              "      <td>-6.34808</td>\n",
              "      <td>-5.94739</td>\n",
              "      <td>56.00635</td>\n",
              "      <td>44.86854</td>\n",
              "      <td>16.92452</td>\n",
              "      <td>19.70795</td>\n",
              "      <td>14.74326</td>\n",
              "      <td>28.65410</td>\n",
              "      <td>9.64125</td>\n",
              "      <td>8.67031</td>\n",
              "      <td>10.69529</td>\n",
              "      <td>6.78168</td>\n",
              "      <td>4.61412</td>\n",
              "      <td>1.45033</td>\n",
              "      <td>-13.83864</td>\n",
              "      <td>-17.68365</td>\n",
              "      <td>-3.95938</td>\n",
              "      <td>-3.95938</td>\n",
              "      <td>-22.86499</td>\n",
              "      <td>11.59319</td>\n",
              "      <td>-25.40311</td>\n",
              "    </tr>\n",
              "  </tbody>\n",
              "</table>\n",
              "<p>2 rows × 139 columns</p>\n",
              "</div>"
            ],
            "text/plain": [
              "        0         1         2    ...        136        137        138\n",
              "0  34.79905  35.46569  20.09317  ...  304.99092  287.72498  308.63847\n",
              "1  -3.47684  -5.28543 -19.76648  ...  -22.86499   11.59319  -25.40311\n",
              "\n",
              "[2 rows x 139 columns]"
            ]
          },
          "metadata": {
            "tags": []
          },
          "execution_count": 73
        }
      ]
    },
    {
      "cell_type": "code",
      "metadata": {
        "id": "WJEz9XPzde1m",
        "colab_type": "code",
        "colab": {}
      },
      "source": [
        ""
      ],
      "execution_count": 0,
      "outputs": []
    }
  ]
}